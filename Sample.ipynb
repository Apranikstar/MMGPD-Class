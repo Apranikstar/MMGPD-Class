{
 "cells": [
  {
   "cell_type": "code",
   "execution_count": 1,
   "id": "4b2fc5f3-60c0-48e4-b623-50791d1d38e0",
   "metadata": {},
   "outputs": [],
   "source": [
    "import MMGPD"
   ]
  },
  {
   "cell_type": "code",
   "execution_count": 5,
   "id": "13984801-ab60-4c3a-bdd8-50132cfd370a",
   "metadata": {},
   "outputs": [
    {
     "name": "stdout",
     "output_type": "stream",
     "text": [
      "LHAPDF 6.5.4 loading /opt/homebrew/anaconda3/envs/MMGPDs/share/LHAPDF/NNPDF40_nlo_as_01180/NNPDF40_nlo_as_01180_0000.dat\n",
      "NNPDF40_nlo_as_01180 PDF set, member #0, version 1; LHAPDF ID = 331700\n",
      "#############################################################################\n",
      "Thanks for using our analysis! The corresponding paper is: arXiv:2211.09522v2\n",
      "#############################################################################\n",
      "\n",
      "\n",
      "LHAPDF 6.5.4 loading /opt/homebrew/anaconda3/envs/MMGPDs/share/LHAPDF/NNPDFpol11_100/NNPDFpol11_100_0000.dat\n",
      "NNPDFpol11_100 PDF set, member #0, version 1; LHAPDF ID = 251000\n",
      "LHAPDF 6.5.4 loading all 101 PDFs in set NNPDF40_nlo_as_01180\n",
      "NNPDF40_nlo_as_01180, version 1; 101 PDF members\n",
      "LHAPDF 6.5.4 loading all 101 PDFs in set NNPDFpol11_100\n",
      "NNPDFpol11_100, version 1; 101 PDF members\n"
     ]
    }
   ],
   "source": [
    "x = MMGPD.GPDAnalysis(\"HGAG23\")"
   ]
  },
  {
   "cell_type": "code",
   "execution_count": 6,
   "id": "bd0c1e6a-ebf4-4f1a-be87-0cc33f10056b",
   "metadata": {},
   "outputs": [
    {
     "data": {
      "text/plain": [
       "0.24714052693645108"
      ]
     },
     "execution_count": 6,
     "metadata": {},
     "output_type": "execute_result"
    }
   ],
   "source": [
    "x.xGPD(\"Set11\", \"H\" ,\"uv\", 0.25, -1)"
   ]
  },
  {
   "cell_type": "code",
   "execution_count": 15,
   "id": "7cf9a4bf-4c96-4c43-ad31-2e5dfd376ba6",
   "metadata": {},
   "outputs": [
    {
     "data": {
      "text/plain": [
       "-0.008735831658628472"
      ]
     },
     "execution_count": 15,
     "metadata": {},
     "output_type": "execute_result"
    }
   ],
   "source": [
    "x.xGPDxi(\"Set11\", \"Ht\" ,\"dbar\", 0.25, -1, 0.25)"
   ]
  },
  {
   "cell_type": "code",
   "execution_count": 18,
   "id": "7d5b5699-3927-40d4-bdc6-0517297b0246",
   "metadata": {},
   "outputs": [
    {
     "name": "stdout",
     "output_type": "stream",
     "text": [
      "LHAPDF 6.5.4 loading /opt/homebrew/anaconda3/envs/MMGPDs/share/LHAPDF/CT10nlo/CT10nlo_0000.dat\n",
      "CT10nlo PDF set, member #0, version 4; LHAPDF ID = 11000\n",
      "LHAPDF 6.5.4 loading all 53 PDFs in set CT10nlo\n",
      "CT10nlo, version 4; 53 PDF members\n"
     ]
    }
   ],
   "source": [
    "y = MMGPD.xPDF(\"CT10nlo\")"
   ]
  },
  {
   "cell_type": "code",
   "execution_count": 19,
   "id": "beef8f8d-ed7d-4bc2-ab1f-cdfe4b8ba1e2",
   "metadata": {},
   "outputs": [
    {
     "data": {
      "text/plain": [
       "0.40005559113865213"
      ]
     },
     "execution_count": 19,
     "metadata": {},
     "output_type": "execute_result"
    }
   ],
   "source": [
    "y.xPDFCentVal(\"g\", 0.25,4)"
   ]
  },
  {
   "cell_type": "code",
   "execution_count": null,
   "id": "89c6b097-9a49-40cb-a911-18c32808b2ad",
   "metadata": {},
   "outputs": [],
   "source": []
  }
 ],
 "metadata": {
  "kernelspec": {
   "display_name": "Python 3 (ipykernel)",
   "language": "python",
   "name": "python3"
  },
  "language_info": {
   "codemirror_mode": {
    "name": "ipython",
    "version": 3
   },
   "file_extension": ".py",
   "mimetype": "text/x-python",
   "name": "python",
   "nbconvert_exporter": "python",
   "pygments_lexer": "ipython3",
   "version": "3.11.8"
  }
 },
 "nbformat": 4,
 "nbformat_minor": 5
}
