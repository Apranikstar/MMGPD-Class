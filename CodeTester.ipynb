{
 "cells": [
  {
   "cell_type": "code",
   "execution_count": 1,
   "id": "dbc79369-5e03-4007-a08d-d7225a157eb5",
   "metadata": {},
   "outputs": [],
   "source": [
    "from MMGPD import GPDAnalysis"
   ]
  },
  {
   "cell_type": "code",
   "execution_count": 2,
   "id": "d173b099-eb25-4f7d-8ec0-38b53a1dff30",
   "metadata": {},
   "outputs": [],
   "source": [
    "import MMGPD"
   ]
  },
  {
   "cell_type": "code",
   "execution_count": 3,
   "id": "23540613-864d-42db-96eb-ee1dc3586ce0",
   "metadata": {},
   "outputs": [
    {
     "name": "stdout",
     "output_type": "stream",
     "text": [
      "LHAPDF 6.5.4 loading /opt/homebrew/anaconda3/envs/MMGPDs/share/LHAPDF/NNPDF40_nlo_as_01180/NNPDF40_nlo_as_01180_0000.dat\n",
      "NNPDF40_nlo_as_01180 PDF set, member #0, version 1; LHAPDF ID = 331700\n",
      "#############################################################################\n",
      "Thanks for using our analysis! The corresponding paper is: arXiv:2211.09522v2\n",
      "#############################################################################\n",
      "\n",
      "\n",
      "LHAPDF 6.5.4 loading /opt/homebrew/anaconda3/envs/MMGPDs/share/LHAPDF/NNPDFpol11_100/NNPDFpol11_100_0000.dat\n",
      "NNPDFpol11_100 PDF set, member #0, version 1; LHAPDF ID = 251000\n",
      "LHAPDF 6.5.4 loading all 101 PDFs in set NNPDF40_nlo_as_01180\n",
      "NNPDF40_nlo_as_01180, version 1; 101 PDF members\n",
      "LHAPDF 6.5.4 loading all 101 PDFs in set NNPDFpol11_100\n",
      "NNPDFpol11_100, version 1; 101 PDF members\n"
     ]
    }
   ],
   "source": [
    "x = MMGPD.GPDAnalysis(\"HGAG23\")"
   ]
  },
  {
   "cell_type": "code",
   "execution_count": 4,
   "id": "09449c16-00cb-48c5-8104-adb3a9d3647f",
   "metadata": {},
   "outputs": [
    {
     "data": {
      "text/plain": [
       "0.07508224321843904"
      ]
     },
     "execution_count": 4,
     "metadata": {},
     "output_type": "execute_result"
    }
   ],
   "source": [
    "x.xGPD(\"Set9\", \"H\" , \"dv\" , 0.25 , -1)    "
   ]
  },
  {
   "cell_type": "code",
   "execution_count": 9,
   "id": "e3de8475-78b1-43d4-b930-990ecf4ed8b1",
   "metadata": {},
   "outputs": [
    {
     "data": {
      "text/plain": [
       "0.07668729115027148+/-0.0034253245896872573"
      ]
     },
     "execution_count": 9,
     "metadata": {},
     "output_type": "execute_result"
    }
   ],
   "source": [
    "x.xGPDwUnc(\"Set11\", \"H\" , \"dv\" , 0.25 , -1)    "
   ]
  },
  {
   "cell_type": "code",
   "execution_count": null,
   "id": "9af82897-2b1a-4d79-af32-82777b8937f0",
   "metadata": {},
   "outputs": [],
   "source": []
  },
  {
   "cell_type": "code",
   "execution_count": 6,
   "id": "57c0815f-19e1-43b8-9512-5bf77f0eac13",
   "metadata": {},
   "outputs": [
    {
     "name": "stdout",
     "output_type": "stream",
     "text": [
      "LHAPDF 6.5.4 loading /opt/homebrew/anaconda3/envs/MMGPDs/share/LHAPDF/CT10nlo/CT10nlo_0000.dat\n",
      "CT10nlo PDF set, member #0, version 4; LHAPDF ID = 11000\n",
      "LHAPDF 6.5.4 loading all 53 PDFs in set CT10nlo\n",
      "CT10nlo, version 4; 53 PDF members\n"
     ]
    }
   ],
   "source": [
    "y = MMGPD.xPDF(\"CT10nlo\")"
   ]
  },
  {
   "cell_type": "code",
   "execution_count": 7,
   "id": "2cf43676-a702-4171-8119-8be8638c3332",
   "metadata": {},
   "outputs": [
    {
     "data": {
      "text/plain": [
       "0.6338900953299796+/-0.01929029306597458"
      ]
     },
     "execution_count": 7,
     "metadata": {},
     "output_type": "execute_result"
    }
   ],
   "source": [
    "y.xPDFwUncertinty(\"uv\", 0.25,4)"
   ]
  },
  {
   "cell_type": "code",
   "execution_count": 8,
   "id": "8ef66c3c-ef67-473d-bbf5-09ff3c458416",
   "metadata": {},
   "outputs": [
    {
     "data": {
      "text/plain": [
       "[4.39290173e-06 5.47948894e-06 7.46161625e-04 9.85323724e-04\n",
       " 1.45184948e-03 2.15169114e-03 2.35919393e-03 3.00246028e-03\n",
       " 1.02058314e-02 1.30631535e-02 1.44903724e-02 1.62036159e-02\n",
       " 1.65690000e-02 1.69571143e-02 1.71641344e-02 1.90303555e-02\n",
       " 2.29756866e-02 2.59685055e-02 2.77569443e-02 2.85749493e-02\n",
       " 4.12773716e-02 4.73946005e-02 4.99259663e-02 5.15934690e-02\n",
       " 5.56515949e-02 6.56802905e-02 7.15277539e-02 7.18622763e-02\n",
       " 9.40335251e-02 9.64898609e-02 1.00140787e-01 1.00687994e-01\n",
       " 1.11366476e-01 1.25523216e-01 1.30532493e-01 1.33034143e-01\n",
       " 1.49816858e-01 1.51749626e-01 1.60949292e-01 1.64376593e-01\n",
       " 1.69706849e-01 1.91727459e-01 1.96605376e-01 2.05612869e-01\n",
       " 2.08095364e-01 2.22486335e-01 2.28905960e-01 2.31184464e-01\n",
       " 2.36343201e-01 2.49340860e-01 2.56428233e-01 2.67474323e-01\n",
       " 2.69638210e-01 2.71037683e-01 2.99006261e-01 3.04361647e-01\n",
       " 3.12378259e-01 3.19982189e-01 3.35982082e-01 3.53875922e-01\n",
       " 3.55412772e-01 3.58839155e-01 3.79180855e-01 3.84207743e-01\n",
       " 3.90928011e-01 4.03514519e-01 4.17080901e-01 4.34403318e-01\n",
       " 4.36651461e-01 4.40298440e-01 4.63783796e-01 4.72196317e-01\n",
       " 4.77269242e-01 4.83954255e-01 5.00587360e-01 5.01256861e-01\n",
       " 5.52571720e-01 5.58829005e-01 5.75133644e-01 5.80814894e-01\n",
       " 5.86693299e-01 5.90563762e-01 5.95915479e-01 6.16960552e-01\n",
       " 6.19847781e-01 6.23481918e-01 6.33630915e-01 6.61590667e-01\n",
       " 6.64154478e-01 6.81015940e-01 7.34658375e-01 7.52100176e-01\n",
       " 7.61895135e-01 7.73699167e-01 7.94003113e-01 8.19439405e-01\n",
       " 8.27130690e-01 8.99598587e-01 9.10508360e-01 9.21859625e-01]"
      ]
     },
     "execution_count": 8,
     "metadata": {},
     "output_type": "execute_result"
    }
   ],
   "source": [
    "MMGPD.SkewedDataGenerator(0,1,100,2)"
   ]
  }
 ],
 "metadata": {
  "kernelspec": {
   "display_name": "Python 3 (ipykernel)",
   "language": "python",
   "name": "python3"
  },
  "language_info": {
   "codemirror_mode": {
    "name": "ipython",
    "version": 3
   },
   "file_extension": ".py",
   "mimetype": "text/x-python",
   "name": "python",
   "nbconvert_exporter": "python",
   "pygments_lexer": "ipython3",
   "version": "3.11.8"
  }
 },
 "nbformat": 4,
 "nbformat_minor": 5
}
