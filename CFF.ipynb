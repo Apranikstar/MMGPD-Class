{
 "cells": [
  {
   "cell_type": "code",
   "execution_count": null,
   "id": "151e5a17-967e-4cbf-8c42-2026af066607",
   "metadata": {},
   "outputs": [],
   "source": [
    "import MMGPD\n",
    "import numpy as np\n",
    "import matplotlib.pyplot as plt\n",
    "from scipy.integrate import quad\n",
    "import vegas\n",
    "import time\n",
    "import pandas as pd"
   ]
  },
  {
   "cell_type": "code",
   "execution_count": null,
   "id": "9774333b-0292-4dd0-aed4-b979e1b00af6",
   "metadata": {},
   "outputs": [],
   "source": [
    "\n",
    "def perform_vegas_integration(myAnalysis, t, xi, nitn=35, neval=1_000):\n",
    "    \"\"\"\n",
    "    Perform VEGAS integration for a range of t and xi values.\n",
    "\n",
    "    Parameters:\n",
    "        myAnalysis: An object containing the method `xGPDxi` for GPD calculations.\n",
    "        t_values: A list or array of t values.\n",
    "        xi_values: A list or array of xi values.\n",
    "        nitn: Number of VEGAS iterations (default: 35).\n",
    "        neval: Number of evaluations per iteration (default: 1000).\n",
    "\n",
    "    Returns:\n",
    "        results: A dictionary with (t, xi) as keys and (mean, sdev) as values.\n",
    "        elapsed_time: Total elapsed time for the computation.\n",
    "    \"\"\"\n",
    "\n",
    "    # Define the integrand for VEGAS\n",
    "    def integrand(x, t, xi):\n",
    "        # Handle singularities by avoiding exact evaluation at x = xi\n",
    "        if np.isclose(x[0], xi, atol=1e-9) or np.isclose(x[0], -xi, atol=1e-9):\n",
    "            return 0\n",
    "        else:\n",
    "            term1 = (\n",
    "                (myAnalysis.xGPDxi(\"Set11\", \"H\", \"uv\", x[0], t, xi)/x[0] +\n",
    "                 2 * myAnalysis.xGPDxi(\"Set11\", \"H\", \"ubar\", x[0], t, xi)/x[0]) *\n",
    "                np.power(2 / 3, 2) *\n",
    "                (1 / (xi - x[0]) - 1 / (xi + x[0]))\n",
    "            )\n",
    "            term2 = (\n",
    "                (myAnalysis.xGPDxi(\"Set11\", \"H\", \"dv\", x[0], t, xi)/x[0] +\n",
    "                 2 * myAnalysis.xGPDxi(\"Set11\", \"H\", \"dbar\", x[0], t, xi)/x[0]) *\n",
    "                np.power(-1 / 3, 2) *\n",
    "                (1 / (xi - x[0]) - 1 / (xi + x[0]))\n",
    "            )\n",
    "            return term1 + term2\n",
    "\n",
    "    # Wrapper for VEGAS\n",
    "    def vegas_integrand(x, t, xi):\n",
    "        return integrand(x, t, xi)\n",
    "\n",
    "    # Initialize results\n",
    "    ReH_Results = {}\n",
    "\n",
    "    # Perform VEGAS integration for all t and xi values\n",
    "    \n",
    "        \n",
    "    # Initialize VEGAS integrator\n",
    "    integ = vegas.Integrator([[0, 1]])  # Integration bounds for x: 0 to 1\n",
    "            \n",
    "    # Run the integration\n",
    "    result = integ(lambda x: vegas_integrand(x, t, xi), nitn=nitn, neval=neval)\n",
    "            \n",
    "    # Store the mean and standard deviation in the results\n",
    "    ReH_Results[(t, xi)] = (result.mean, result.sdev)\n",
    "\n",
    "    \n",
    "    return ReH_Results\n"
   ]
  },
  {
   "cell_type": "code",
   "execution_count": null,
   "id": "3541d1fd-22d0-43b3-93b5-4fd909ed58b6",
   "metadata": {},
   "outputs": [],
   "source": [
    "# Define the integrand as a function of xi\n",
    "def integrand(x, xi):\n",
    "    if abs(xi) < abs(x[0]):  # Apply the Heaviside function condition\n",
    "        return 0.0\n",
    "    x_val = x[0]  # Vegas passes variables as an array\n",
    "    term1 = 1 / (xi - x_val)\n",
    "    term2 = 1 / (xi + x_val)\n",
    "    prefactor = (1 - (x_val / xi)**2) * 3 * (x_val / xi)\n",
    "    return (term1 - term2) * prefactor\n",
    "\n",
    "# Define the vegas wrapper for a specific xi\n",
    "def vegas_integrand(x, xi):\n",
    "    return integrand(x, xi)\n",
    "\n",
    "# Function to perform integration for a specific xi\n",
    "def integrate_for_xi(xi):\n",
    "    integ = vegas.Integrator([[0, 1]])  # Create the vegas integrator\n",
    "    \n",
    "    # Define a wrapped integrand that includes xi\n",
    "    def wrapped_integrand(x):\n",
    "        return vegas_integrand(x, xi)\n",
    "    \n",
    "    # Run the integration\n",
    "    result = integ(wrapped_integrand, nitn=500, neval=10_000)\n",
    "    return result.mean, result.sdev\n"
   ]
  },
  {
   "cell_type": "code",
   "execution_count": null,
   "id": "72041534-6a50-4304-baf3-d68bd3cc0e50",
   "metadata": {},
   "outputs": [],
   "source": [
    "myAnalysis = MMGPD.GPDAnalysis(\"HGAG23\")"
   ]
  },
  {
   "cell_type": "code",
   "execution_count": null,
   "id": "1aa62fcc-1ad3-450c-89af-f10609321d16",
   "metadata": {},
   "outputs": [],
   "source": [
    "HallA = pd.read_csv('CFF-DataInput.dat',delim_whitespace=True)"
   ]
  },
  {
   "cell_type": "code",
   "execution_count": null,
   "id": "e5537570-22ae-4c9b-b55c-1864bb216f62",
   "metadata": {},
   "outputs": [],
   "source": [
    "for items in HallA[\"xi\"]:\n",
    "    print(\"D-Term,xi: \",items,\",\",integrate_for_xi(items))\n",
    "\n"
   ]
  },
  {
   "cell_type": "code",
   "execution_count": null,
   "id": "2c690b00-c152-4095-a71b-5090901beaaf",
   "metadata": {},
   "outputs": [],
   "source": [
    "HallAReH = []\n",
    "for index in range(len(HallA[\"xi\"])):\n",
    "    HallAReH.append(perform_vegas_integration(myAnalysis, HallA[\"t\"][index], HallA[\"xi\"][index], nitn=35, neval=100))\n",
    "HallAReH"
   ]
  },
  {
   "cell_type": "code",
   "execution_count": null,
   "id": "c704a7a5-e7d3-46f5-aaee-48b0d49a8c24",
   "metadata": {},
   "outputs": [],
   "source": [
    "# Flatten the list of dictionaries into a list of tuples\n",
    "dataHallAReH = [\n",
    "    (t, xi, mean, sdev) \n",
    "    for item in HallAReH \n",
    "    for (t, xi), (mean, sdev) in item.items()\n",
    "]\n",
    "\n",
    "# Create a DataFrame\n",
    "df = pd.DataFrame(dataHallAReH, columns=[\"t\", \"xi\", \"ReH\", \"Unc\"])\n",
    "\n",
    "# Save the DataFrame to a CSV file\n",
    "df.to_csv('CFFOutput.csv', index=False)\n"
   ]
  },
  {
   "cell_type": "code",
   "execution_count": null,
   "id": "49f5d6c2-69c4-4abf-97fc-b0a59fdef231",
   "metadata": {},
   "outputs": [],
   "source": []
  }
 ],
 "metadata": {
  "kernelspec": {
   "display_name": "Python 3 (ipykernel)",
   "language": "python",
   "name": "python3"
  },
  "language_info": {
   "codemirror_mode": {
    "name": "ipython",
    "version": 3
   },
   "file_extension": ".py",
   "mimetype": "text/x-python",
   "name": "python",
   "nbconvert_exporter": "python",
   "pygments_lexer": "ipython3",
   "version": "3.11.8"
  }
 },
 "nbformat": 4,
 "nbformat_minor": 5
}
